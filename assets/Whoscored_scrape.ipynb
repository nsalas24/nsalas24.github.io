{
 "cells": [
  {
   "cell_type": "code",
   "execution_count": 1,
   "metadata": {
    "collapsed": false
   },
   "outputs": [],
   "source": [
    "import time\n",
    "import os\n",
    "from selenium import webdriver\n",
    "from selenium.webdriver.common.desired_capabilities import DesiredCapabilities\n",
    "from bs4 import BeautifulSoup\n",
    "from pyvirtualdisplay import Display"
   ]
  },
  {
   "cell_type": "code",
   "execution_count": 2,
   "metadata": {
    "collapsed": false
   },
   "outputs": [],
   "source": [
    "os.environ[\"PATH\"] += \":/home/noah/Documents/IPython\""
   ]
  },
  {
   "cell_type": "code",
   "execution_count": 9,
   "metadata": {
    "collapsed": true
   },
   "outputs": [],
   "source": [
    "names = [];\n",
    "ratings = [];\n",
    "team = [];\n",
    "soups = [];\n",
    "urls =[13,15];\n",
    "#urls =[13,183,184,15,162,31,214,14,26,32,21,18,96,16,259,30,27,175,29,167]"
   ]
  },
  {
   "cell_type": "code",
   "execution_count": 10,
   "metadata": {
    "collapsed": false
   },
   "outputs": [
    {
     "name": "stdout",
     "output_type": "stream",
     "text": [
      "https://www.whoscored.com/Teams/13\n",
      "https://www.whoscored.com/Teams/15\n"
     ]
    }
   ],
   "source": [
    "display = Display(visible=0, size=(800, 600))\n",
    "display.start()\n",
    "    \n",
    "firefox_capabilities = DesiredCapabilities.FIREFOX\n",
    "firefox_capabilities['marionette'] = True\n",
    "\n",
    "driver = webdriver.Firefox(capabilities=firefox_capabilities)\n",
    "\n",
    "\n",
    "for url in urls:\n",
    "    \n",
    "    \n",
    "    d = 'https://www.whoscored.com/Teams/' + str(url)\n",
    "    print(d)\n",
    "    driver.get(d)\n",
    "    \n",
    "    soup = BeautifulSoup(driver.page_source,\"lxml\")\n",
    "    #print(soup.prettify())\n",
    "    tb = soup.find(id=\"player-table-statistics-body\")\n",
    "    #print(tb.prettify())\n",
    "    \n",
    "    t = soup.findAll(\"span\", { \"class\" : \"team-header-name\" });\n",
    "    \n",
    "    for a in range(1,12):\n",
    "        team.append(t[0].contents[0].strip())\n",
    "        \n",
    "    #print(team)\n",
    "        \n",
    "    counter= 0;\n",
    "    \n",
    "    for row in tb.find_all('tr'):\n",
    "        counter = counter +1;\n",
    "        tdx = [i for i in row.find_all('td')]\n",
    "        s = [j for j in row.find_all('span')]\n",
    "        names.append(tdx[2].a.contents[0].strip() + s[2].contents[0].strip())\n",
    "        ratings.append(tdx[15].contents[0].strip())\n",
    "        if counter > 10:\n",
    "            break\n",
    "    \n",
    "    \n",
    "    #print(names)\n",
    "    #print(ratings)\n",
    "    \n",
    "    time.sleep(45)\n"
   ]
  },
  {
   "cell_type": "code",
   "execution_count": 11,
   "metadata": {
    "collapsed": true
   },
   "outputs": [],
   "source": [
    "ratings = [float(i) for i in ratings]\n",
    "data = [{'key': n,'team': t, 'value': r} for n, t, r in zip(names, team, ratings)]"
   ]
  },
  {
   "cell_type": "code",
   "execution_count": 12,
   "metadata": {
    "collapsed": false
   },
   "outputs": [
    {
     "name": "stdout",
     "output_type": "stream",
     "text": [
      "[{'team': 'Arsenal', 'value': 7.76, 'key': 'Alexis Sánchez,  M(CLR),FW'}, {'team': 'Arsenal', 'value': 7.63, 'key': 'Calum Chambers,  D(CR)'}, {'team': 'Arsenal', 'value': 7.35, 'key': 'Shkodran Mustafi,  D(CR)'}, {'team': 'Arsenal', 'value': 7.3, 'key': 'Mesut Özil,  M(CLR)'}, {'team': 'Arsenal', 'value': 7.25, 'key': 'Laurent Koscielny,  D(C)'}, {'team': 'Arsenal', 'value': 7.04, 'key': 'Santi Cazorla,  M(CLR)'}, {'team': 'Arsenal', 'value': 7.03, 'key': 'Carl Jenkinson,  D(R)'}, {'team': 'Arsenal', 'value': 6.99, 'key': 'Alex Oxlade Chamberlain,  M(CLR)'}, {'team': 'Arsenal', 'value': 6.99, 'key': 'Theo Walcott,  M(LR),FW'}, {'team': 'Arsenal', 'value': 6.98, 'key': 'Kieran Gibbs,  D(L),M(L)'}, {'team': 'Arsenal', 'value': 6.98, 'key': 'Nacho Monreal,  D(CL)'}, {'team': 'Chelsea', 'value': 7.81, 'key': 'Eden Hazard,  M(CLR),FW'}, {'team': 'Chelsea', 'value': 7.41, 'key': 'Marcos Alonso,  D(CL),M(L)'}, {'team': 'Chelsea', 'value': 7.41, 'key': 'Diego Costa,  FW'}, {'team': 'Chelsea', 'value': 7.23, 'key': \"N'Golo Kanté,  DMC\"}, {'team': 'Chelsea', 'value': 7.22, 'key': 'Victor Moses,  M(CLR)'}, {'team': 'Chelsea', 'value': 7.21, 'key': 'César Azpilicueta,  D(CLR)'}, {'team': 'Chelsea', 'value': 7.16, 'key': 'David Luiz,  D(C),DMC'}, {'team': 'Chelsea', 'value': 7.13, 'key': 'Pedro,  M(CLR)'}, {'team': 'Chelsea', 'value': 7.06, 'key': 'Gary Cahill,  D(C)'}, {'team': 'Chelsea', 'value': 7.05, 'key': 'Cesc Fàbregas,  M(CL),FW'}, {'team': 'Chelsea', 'value': 7.01, 'key': 'Nemanja Matic,  DMC'}]\n"
     ]
    }
   ],
   "source": [
    "print(data)"
   ]
  },
  {
   "cell_type": "code",
   "execution_count": null,
   "metadata": {
    "collapsed": true
   },
   "outputs": [],
   "source": [
    "import json\n",
    "with open('data.json', 'w') as outfile:\n",
    "     json.dump(data, outfile, sort_keys = True, indent = 4, ensure_ascii=False)"
   ]
  },
  {
   "cell_type": "code",
   "execution_count": 13,
   "metadata": {
    "collapsed": false
   },
   "outputs": [
    {
     "data": {
      "text/plain": [
       "<Display cmd_param=['Xvfb', '-br', '-nolisten', 'tcp', '-screen', '0', '800x600x24', ':1003'] cmd=['Xvfb', '-br', '-nolisten', 'tcp', '-screen', '0', '800x600x24', ':1003'] oserror=None return_code=0 stdout=\"\" stderr=\"\" timeout_happened=False>"
      ]
     },
     "execution_count": 13,
     "metadata": {},
     "output_type": "execute_result"
    }
   ],
   "source": [
    "driver.quit()\n",
    "display.stop()"
   ]
  },
  {
   "cell_type": "code",
   "execution_count": null,
   "metadata": {
    "collapsed": true
   },
   "outputs": [],
   "source": [
    "###############"
   ]
  },
  {
   "cell_type": "code",
   "execution_count": null,
   "metadata": {
    "collapsed": false
   },
   "outputs": [],
   "source": [
    "#import lxml.html\n",
    "#tree = lxml.html.fromstring(driver.page_source)\n",
    "#for i in range(1,2):\n",
    "    #time.sleep(5)\n",
    "    #print(tree.xpath('//*[@id=\"player-table-statistics-body\"]/tr[{0}]/td[16]'.format(i))[0].text)\n",
    "    #print(tree.xpath('//*[@id=\"player-table-statistics-body\"]/tr[{0}]/td[3]/a'.format(i))[0].text)\n",
    "    #//*[@id=\"player-table-statistics-body\"]/tr[1]/td[3]/span[2]\n",
    "    "
   ]
  }
 ],
 "metadata": {
  "kernelspec": {
   "display_name": "Python 3",
   "language": "python",
   "name": "python3"
  },
  "language_info": {
   "codemirror_mode": {
    "name": "ipython",
    "version": 3
   },
   "file_extension": ".py",
   "mimetype": "text/x-python",
   "name": "python",
   "nbconvert_exporter": "python",
   "pygments_lexer": "ipython3",
   "version": "3.5.2"
  }
 },
 "nbformat": 4,
 "nbformat_minor": 1
}
